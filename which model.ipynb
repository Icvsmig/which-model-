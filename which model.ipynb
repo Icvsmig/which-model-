{
 "cells": [
  {
   "cell_type": "markdown",
   "metadata": {},
   "source": [
    "\n",
    "Predict the running times of prospective Olympic sprinters using data from the last 20 Olympics.\n",
    "LINEAR REGRESSION becasue it is a continous variable and the predictions shouldn't be that far off the line of best fit. \n",
    "\n",
    "You have more features (columns) than rows in your dataset. \n",
    "LASSO becasue removing the coefficients won't have substantial increase in the bias. \n",
    "\n",
    "Identify the most important characteristic predicting likelihood of being jailed before age 20.\n",
    "GRADING BOOSTING because it is able to learn complex non-linear boundaries through boosting. \n",
    "\n",
    "Implement a filter to “highlight” emails that might be important to the recipient \n",
    "NAIVE BAYES classifier to classify important emails. \n",
    "\n",
    "You have 1000+ features. \n",
    "LASSO again remove coefficients without a substantial increase in the bias.\n",
    "\n",
    "Predict whether someone who adds items to their cart on a website will purchase the items. \n",
    "LogisticRegression becuase it provides more informative regression results than other regressors such as how effictive the feature is as well as it's association (- or +)\n",
    "\n",
    "Your dataset dimensions are 982400 x 500 \n",
    "SVM is effective in high dimensional spaces \n",
    "\n",
    "Identify faces in an image. \n",
    "KNN simple algorithm and easily updated with more faces since there is no learning going on. \n",
    "\n",
    "Predict which of three flavors of ice cream will be most popular with boys vs girls. \n",
    "Random Forest "
   ]
  }
 ],
 "metadata": {
  "kernelspec": {
   "display_name": "Python 3",
   "language": "python",
   "name": "python3"
  },
  "language_info": {
   "codemirror_mode": {
    "name": "ipython",
    "version": 3
   },
   "file_extension": ".py",
   "mimetype": "text/x-python",
   "name": "python",
   "nbconvert_exporter": "python",
   "pygments_lexer": "ipython3",
   "version": "3.7.3"
  }
 },
 "nbformat": 4,
 "nbformat_minor": 2
}
